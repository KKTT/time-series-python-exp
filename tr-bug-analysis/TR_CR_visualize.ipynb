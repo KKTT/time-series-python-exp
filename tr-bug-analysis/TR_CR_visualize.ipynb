{
 "cells": [
  {
   "cell_type": "markdown",
   "metadata": {},
   "source": [
    "## Visualize on all Captain Crunch bug reports\n",
    "\n",
    "For each bug, we plot out:\n",
    "- **Forecast plot**: step forecast result and 1 month future forecast with ARMA + FFT models using open window and sliding window respectively.\n",
    "- **CR/TR plot**: capacity remaning and time remaining plots as computed in VRops."
   ]
  },
  {
   "cell_type": "code",
   "execution_count": 1,
   "metadata": {
    "collapsed": true
   },
   "outputs": [],
   "source": [
    "import json\n",
    "import argparse\n",
    "import os.path\n",
    "import pandas as pd\n",
    "import numpy as np\n",
    "import matplotlib.pyplot as plt\n",
    "import scipy\n",
    "from scipy import signal\n",
    "from scipy import stats\n",
    "from pandas import Series\n",
    "import matplotlib as mpl\n",
    "%matplotlib inline"
   ]
  },
  {
   "cell_type": "code",
   "execution_count": 2,
   "metadata": {
    "collapsed": false
   },
   "outputs": [],
   "source": [
    "def plot_forecast(filename):\n",
    "    forecast = pd.read_csv(filename, index_col=0, squeeze=True, parse_dates=True)\n",
    "    actual = forecast['actual']\n",
    "    has_long = False\n",
    "    has_short = False\n",
    "    if \"m1_long_predict\" in forecast:\n",
    "        has_long = True\n",
    "    if \"m1_short_predict\" in forecast:\n",
    "        has_short = True\n",
    "\n",
    "    column_per_model = 9 if has_long and has_short else 6\n",
    "    num_models = int((forecast.shape[1] - 1) / column_per_model)\n",
    "    fig = plt.figure(figsize=(20,4 * (num_models+1)))\n",
    "    axs = [fig.add_subplot(num_models+1,1,i+1) for i in range(num_models+1)]\n",
    "    axs[0].plot(actual)\n",
    "    axs[0].set_title(\"original time series\", fontsize=16)\n",
    "\n",
    "    for i in range(1, num_models+1):\n",
    "        if has_long:\n",
    "            l_predict = forecast['m{0}_long_predict'.format(i)]\n",
    "            l_upper = forecast['m{0}_long_upper'.format(i)]\n",
    "            l_lower = forecast['m{0}_long_lower'.format(i)]\n",
    "        if has_short:\n",
    "            s_predict = forecast['m{0}_short_predict'.format(i)]\n",
    "            s_upper = forecast['m{0}_short_upper'.format(i)]\n",
    "            s_lower = forecast['m{0}_short_lower'.format(i)]\n",
    "        f_predict = forecast['m{0}_future_predict'.format(i)]\n",
    "        f_upper = forecast['m{0}_future_upper'.format(i)]\n",
    "        f_lower = forecast['m{0}_future_lower'.format(i)]\n",
    "\n",
    "        \n",
    "        metric_length = len(forecast)\n",
    "        model_name = \"ARMA + FFT\"\n",
    "        sample_strategy = \"OPEN WINDOW\" if i == 1 else \"SLIDING WINDOW\"\n",
    "        axs[i].plot(actual, 'b.', label='ground truth, metric_length={0}'.format(metric_length), linewidth=2)\n",
    "        if has_long:\n",
    "            axs[i].plot(l_predict, 'r', linewidth=2,\n",
    "                label='long-term forecast')\n",
    "            axs[i].fill_between(forecast.index,\n",
    "                            l_upper,\n",
    "                            l_lower, color='r', alpha=.2)\n",
    "        if has_short:\n",
    "            axs[i].plot(s_predict, 'g', linewidth=2,\n",
    "                label='short-term forecast')\n",
    "            axs[i].fill_between(forecast.index,\n",
    "                            s_upper,\n",
    "                            s_lower, color='g', alpha=.2)\n",
    "\n",
    "        axs[i].plot(f_predict, 'm', linewidth=2,\n",
    "            label='future forecast for 30 days')\n",
    "        axs[i].fill_between(forecast.index,\n",
    "                        f_upper,\n",
    "                        f_lower, color='m', alpha=.2)\n",
    "        axs[i].legend(loc='lower right', fontsize=14)\n",
    "        axs[i].set_title(\"Models={0}, Sample={1}\".format(model_name, sample_strategy), fontsize=16)\n",
    "\n",
    "    outputPath = os.path.splitext(filename)[0] + \".png\"\n",
    "    fig.tight_layout()\n",
    "    plt.show()"
   ]
  },
  {
   "cell_type": "code",
   "execution_count": 3,
   "metadata": {
    "collapsed": true
   },
   "outputs": [],
   "source": [
    "def plot_CR_TR(filename):\n",
    "    table = pd.read_csv(filename, index_col=0, squeeze=True, parse_dates=True)\n",
    "    length = table.shape[0]\n",
    "    fig = plt.figure(figsize=(15,12))\n",
    "    num_fig = 4\n",
    "    ax1 = fig.add_subplot(num_fig,1,1)\n",
    "    ax1.plot(table[\"Metric\"])\n",
    "    ax1.plot(table['Capacity'])\n",
    "    ax1.set_title(\"Demand/Capacity\", fontsize=20)\n",
    "    ax1.tick_params(labelsize=16)\n",
    "\n",
    "    ax2 = fig.add_subplot(num_fig,1,2)\n",
    "    ax2.plot(table[\"TR\"])\n",
    "    ax2.set_title(\"Time Remaining(Days)\", fontsize=20)\n",
    "    ax2.plot(Series(data=np.zeros(length), index=table.index), 'r--')\n",
    "    ax2.tick_params(labelsize=16)\n",
    "\n",
    "    ax3 = fig.add_subplot(num_fig,1,3)\n",
    "    ax3.plot(table[\"CR\"])\n",
    "    ax3.plot(table['Capacity'])\n",
    "    ax3.set_title(\"Capacity Remaining\", fontsize=20)\n",
    "    ax3.tick_params(labelsize=16)\n",
    "\n",
    "    ax4 = fig.add_subplot(num_fig,1,4)\n",
    "    ax4.plot(table[\"beta\"][100:])\n",
    "    ax4.plot(Series(data=np.zeros(length), index=table.index), 'r--')\n",
    "    ax4.set_title(\"Beta\", fontsize=20)\n",
    "    ax4.tick_params(labelsize=16)\n",
    "\n",
    "    #ax5 = fig.add_subplot(num_fig,1,5)\n",
    "    #ax5.plot(table[\"beta_std\"][100:])\n",
    "    #ax5.plot(Series(data=np.zeros(length), index=table.index), 'r--')\n",
    "    #ax5.set_title(\"Beta_std\", fontsize=20)\n",
    "    #ax5.tick_params(labelsize=16)\n",
    "\n",
    "    fig.tight_layout()\n",
    "    plt.show()\n",
    "    #plt.savefig(\"data/TRBugs/report/bug_{}_crtr.png\".format(bug))"
   ]
  },
  {
   "cell_type": "code",
   "execution_count": 4,
   "metadata": {
    "collapsed": false,
    "scrolled": false
   },
   "outputs": [
    {
     "name": "stdout",
     "output_type": "stream",
     "text": [
      "----------------------------------------------------------------------------------------------------------\n",
      "----------------------------------------------------------------------------------------------------------\n",
      "https://bugzilla.eng.vmware.com/show_bug.cgi?id=1945221\n"
     ]
    },
    {
     "ename": "FileNotFoundError",
     "evalue": "File b'data/TRBugs/forecast/bug_1945221_demand.csv' does not exist",
     "output_type": "error",
     "traceback": [
      "\u001b[0;31m---------------------------------------------------------------------------\u001b[0m",
      "\u001b[0;31mFileNotFoundError\u001b[0m                         Traceback (most recent call last)",
      "\u001b[0;32m<ipython-input-4-e1cf380ba026>\u001b[0m in \u001b[0;36m<module>\u001b[0;34m()\u001b[0m\n\u001b[1;32m     10\u001b[0m     \u001b[0mprint\u001b[0m\u001b[0;34m(\u001b[0m\u001b[0;34m\"----------------------------------------------------------------------------------------------------------\"\u001b[0m\u001b[0;34m)\u001b[0m\u001b[0;34m\u001b[0m\u001b[0m\n\u001b[1;32m     11\u001b[0m     \u001b[0mprint\u001b[0m\u001b[0;34m(\u001b[0m\u001b[0;34m\"https://bugzilla.eng.vmware.com/show_bug.cgi?id={}\"\u001b[0m\u001b[0;34m.\u001b[0m\u001b[0mformat\u001b[0m\u001b[0;34m(\u001b[0m\u001b[0mbudId\u001b[0m\u001b[0;34m)\u001b[0m\u001b[0;34m)\u001b[0m\u001b[0;34m\u001b[0m\u001b[0m\n\u001b[0;32m---> 12\u001b[0;31m     \u001b[0mplot_forecast\u001b[0m\u001b[0;34m(\u001b[0m\u001b[0mforecast_csv\u001b[0m\u001b[0;34m)\u001b[0m\u001b[0;34m\u001b[0m\u001b[0m\n\u001b[0m\u001b[1;32m     13\u001b[0m     \u001b[0mplot_CR_TR\u001b[0m\u001b[0;34m(\u001b[0m\u001b[0mcr_tr_csv\u001b[0m\u001b[0;34m)\u001b[0m\u001b[0;34m\u001b[0m\u001b[0m\n",
      "\u001b[0;32m<ipython-input-2-eab50754e4a2>\u001b[0m in \u001b[0;36mplot_forecast\u001b[0;34m(filename)\u001b[0m\n\u001b[1;32m      1\u001b[0m \u001b[0;32mdef\u001b[0m \u001b[0mplot_forecast\u001b[0m\u001b[0;34m(\u001b[0m\u001b[0mfilename\u001b[0m\u001b[0;34m)\u001b[0m\u001b[0;34m:\u001b[0m\u001b[0;34m\u001b[0m\u001b[0m\n\u001b[0;32m----> 2\u001b[0;31m     \u001b[0mforecast\u001b[0m \u001b[0;34m=\u001b[0m \u001b[0mpd\u001b[0m\u001b[0;34m.\u001b[0m\u001b[0mread_csv\u001b[0m\u001b[0;34m(\u001b[0m\u001b[0mfilename\u001b[0m\u001b[0;34m,\u001b[0m \u001b[0mindex_col\u001b[0m\u001b[0;34m=\u001b[0m\u001b[0;36m0\u001b[0m\u001b[0;34m,\u001b[0m \u001b[0msqueeze\u001b[0m\u001b[0;34m=\u001b[0m\u001b[0;32mTrue\u001b[0m\u001b[0;34m,\u001b[0m \u001b[0mparse_dates\u001b[0m\u001b[0;34m=\u001b[0m\u001b[0;32mTrue\u001b[0m\u001b[0;34m)\u001b[0m\u001b[0;34m\u001b[0m\u001b[0m\n\u001b[0m\u001b[1;32m      3\u001b[0m     \u001b[0mactual\u001b[0m \u001b[0;34m=\u001b[0m \u001b[0mforecast\u001b[0m\u001b[0;34m[\u001b[0m\u001b[0;34m'actual'\u001b[0m\u001b[0;34m]\u001b[0m\u001b[0;34m\u001b[0m\u001b[0m\n\u001b[1;32m      4\u001b[0m     \u001b[0mhas_long\u001b[0m \u001b[0;34m=\u001b[0m \u001b[0;32mFalse\u001b[0m\u001b[0;34m\u001b[0m\u001b[0m\n\u001b[1;32m      5\u001b[0m     \u001b[0mhas_short\u001b[0m \u001b[0;34m=\u001b[0m \u001b[0;32mFalse\u001b[0m\u001b[0;34m\u001b[0m\u001b[0m\n",
      "\u001b[0;32m/Users/junyuanl/anaconda/lib/python3.6/site-packages/pandas/io/parsers.py\u001b[0m in \u001b[0;36mparser_f\u001b[0;34m(filepath_or_buffer, sep, delimiter, header, names, index_col, usecols, squeeze, prefix, mangle_dupe_cols, dtype, engine, converters, true_values, false_values, skipinitialspace, skiprows, nrows, na_values, keep_default_na, na_filter, verbose, skip_blank_lines, parse_dates, infer_datetime_format, keep_date_col, date_parser, dayfirst, iterator, chunksize, compression, thousands, decimal, lineterminator, quotechar, quoting, escapechar, comment, encoding, dialect, tupleize_cols, error_bad_lines, warn_bad_lines, skipfooter, skip_footer, doublequote, delim_whitespace, as_recarray, compact_ints, use_unsigned, low_memory, buffer_lines, memory_map, float_precision)\u001b[0m\n\u001b[1;32m    644\u001b[0m                     skip_blank_lines=skip_blank_lines)\n\u001b[1;32m    645\u001b[0m \u001b[0;34m\u001b[0m\u001b[0m\n\u001b[0;32m--> 646\u001b[0;31m         \u001b[0;32mreturn\u001b[0m \u001b[0m_read\u001b[0m\u001b[0;34m(\u001b[0m\u001b[0mfilepath_or_buffer\u001b[0m\u001b[0;34m,\u001b[0m \u001b[0mkwds\u001b[0m\u001b[0;34m)\u001b[0m\u001b[0;34m\u001b[0m\u001b[0m\n\u001b[0m\u001b[1;32m    647\u001b[0m \u001b[0;34m\u001b[0m\u001b[0m\n\u001b[1;32m    648\u001b[0m     \u001b[0mparser_f\u001b[0m\u001b[0;34m.\u001b[0m\u001b[0m__name__\u001b[0m \u001b[0;34m=\u001b[0m \u001b[0mname\u001b[0m\u001b[0;34m\u001b[0m\u001b[0m\n",
      "\u001b[0;32m/Users/junyuanl/anaconda/lib/python3.6/site-packages/pandas/io/parsers.py\u001b[0m in \u001b[0;36m_read\u001b[0;34m(filepath_or_buffer, kwds)\u001b[0m\n\u001b[1;32m    387\u001b[0m \u001b[0;34m\u001b[0m\u001b[0m\n\u001b[1;32m    388\u001b[0m     \u001b[0;31m# Create the parser.\u001b[0m\u001b[0;34m\u001b[0m\u001b[0;34m\u001b[0m\u001b[0m\n\u001b[0;32m--> 389\u001b[0;31m     \u001b[0mparser\u001b[0m \u001b[0;34m=\u001b[0m \u001b[0mTextFileReader\u001b[0m\u001b[0;34m(\u001b[0m\u001b[0mfilepath_or_buffer\u001b[0m\u001b[0;34m,\u001b[0m \u001b[0;34m**\u001b[0m\u001b[0mkwds\u001b[0m\u001b[0;34m)\u001b[0m\u001b[0;34m\u001b[0m\u001b[0m\n\u001b[0m\u001b[1;32m    390\u001b[0m \u001b[0;34m\u001b[0m\u001b[0m\n\u001b[1;32m    391\u001b[0m     \u001b[0;32mif\u001b[0m \u001b[0;34m(\u001b[0m\u001b[0mnrows\u001b[0m \u001b[0;32mis\u001b[0m \u001b[0;32mnot\u001b[0m \u001b[0;32mNone\u001b[0m\u001b[0;34m)\u001b[0m \u001b[0;32mand\u001b[0m \u001b[0;34m(\u001b[0m\u001b[0mchunksize\u001b[0m \u001b[0;32mis\u001b[0m \u001b[0;32mnot\u001b[0m \u001b[0;32mNone\u001b[0m\u001b[0;34m)\u001b[0m\u001b[0;34m:\u001b[0m\u001b[0;34m\u001b[0m\u001b[0m\n",
      "\u001b[0;32m/Users/junyuanl/anaconda/lib/python3.6/site-packages/pandas/io/parsers.py\u001b[0m in \u001b[0;36m__init__\u001b[0;34m(self, f, engine, **kwds)\u001b[0m\n\u001b[1;32m    728\u001b[0m             \u001b[0mself\u001b[0m\u001b[0;34m.\u001b[0m\u001b[0moptions\u001b[0m\u001b[0;34m[\u001b[0m\u001b[0;34m'has_index_names'\u001b[0m\u001b[0;34m]\u001b[0m \u001b[0;34m=\u001b[0m \u001b[0mkwds\u001b[0m\u001b[0;34m[\u001b[0m\u001b[0;34m'has_index_names'\u001b[0m\u001b[0;34m]\u001b[0m\u001b[0;34m\u001b[0m\u001b[0m\n\u001b[1;32m    729\u001b[0m \u001b[0;34m\u001b[0m\u001b[0m\n\u001b[0;32m--> 730\u001b[0;31m         \u001b[0mself\u001b[0m\u001b[0;34m.\u001b[0m\u001b[0m_make_engine\u001b[0m\u001b[0;34m(\u001b[0m\u001b[0mself\u001b[0m\u001b[0;34m.\u001b[0m\u001b[0mengine\u001b[0m\u001b[0;34m)\u001b[0m\u001b[0;34m\u001b[0m\u001b[0m\n\u001b[0m\u001b[1;32m    731\u001b[0m \u001b[0;34m\u001b[0m\u001b[0m\n\u001b[1;32m    732\u001b[0m     \u001b[0;32mdef\u001b[0m \u001b[0mclose\u001b[0m\u001b[0;34m(\u001b[0m\u001b[0mself\u001b[0m\u001b[0;34m)\u001b[0m\u001b[0;34m:\u001b[0m\u001b[0;34m\u001b[0m\u001b[0m\n",
      "\u001b[0;32m/Users/junyuanl/anaconda/lib/python3.6/site-packages/pandas/io/parsers.py\u001b[0m in \u001b[0;36m_make_engine\u001b[0;34m(self, engine)\u001b[0m\n\u001b[1;32m    921\u001b[0m     \u001b[0;32mdef\u001b[0m \u001b[0m_make_engine\u001b[0m\u001b[0;34m(\u001b[0m\u001b[0mself\u001b[0m\u001b[0;34m,\u001b[0m \u001b[0mengine\u001b[0m\u001b[0;34m=\u001b[0m\u001b[0;34m'c'\u001b[0m\u001b[0;34m)\u001b[0m\u001b[0;34m:\u001b[0m\u001b[0;34m\u001b[0m\u001b[0m\n\u001b[1;32m    922\u001b[0m         \u001b[0;32mif\u001b[0m \u001b[0mengine\u001b[0m \u001b[0;34m==\u001b[0m \u001b[0;34m'c'\u001b[0m\u001b[0;34m:\u001b[0m\u001b[0;34m\u001b[0m\u001b[0m\n\u001b[0;32m--> 923\u001b[0;31m             \u001b[0mself\u001b[0m\u001b[0;34m.\u001b[0m\u001b[0m_engine\u001b[0m \u001b[0;34m=\u001b[0m \u001b[0mCParserWrapper\u001b[0m\u001b[0;34m(\u001b[0m\u001b[0mself\u001b[0m\u001b[0;34m.\u001b[0m\u001b[0mf\u001b[0m\u001b[0;34m,\u001b[0m \u001b[0;34m**\u001b[0m\u001b[0mself\u001b[0m\u001b[0;34m.\u001b[0m\u001b[0moptions\u001b[0m\u001b[0;34m)\u001b[0m\u001b[0;34m\u001b[0m\u001b[0m\n\u001b[0m\u001b[1;32m    924\u001b[0m         \u001b[0;32melse\u001b[0m\u001b[0;34m:\u001b[0m\u001b[0;34m\u001b[0m\u001b[0m\n\u001b[1;32m    925\u001b[0m             \u001b[0;32mif\u001b[0m \u001b[0mengine\u001b[0m \u001b[0;34m==\u001b[0m \u001b[0;34m'python'\u001b[0m\u001b[0;34m:\u001b[0m\u001b[0;34m\u001b[0m\u001b[0m\n",
      "\u001b[0;32m/Users/junyuanl/anaconda/lib/python3.6/site-packages/pandas/io/parsers.py\u001b[0m in \u001b[0;36m__init__\u001b[0;34m(self, src, **kwds)\u001b[0m\n\u001b[1;32m   1388\u001b[0m         \u001b[0mkwds\u001b[0m\u001b[0;34m[\u001b[0m\u001b[0;34m'allow_leading_cols'\u001b[0m\u001b[0;34m]\u001b[0m \u001b[0;34m=\u001b[0m \u001b[0mself\u001b[0m\u001b[0;34m.\u001b[0m\u001b[0mindex_col\u001b[0m \u001b[0;32mis\u001b[0m \u001b[0;32mnot\u001b[0m \u001b[0;32mFalse\u001b[0m\u001b[0;34m\u001b[0m\u001b[0m\n\u001b[1;32m   1389\u001b[0m \u001b[0;34m\u001b[0m\u001b[0m\n\u001b[0;32m-> 1390\u001b[0;31m         \u001b[0mself\u001b[0m\u001b[0;34m.\u001b[0m\u001b[0m_reader\u001b[0m \u001b[0;34m=\u001b[0m \u001b[0m_parser\u001b[0m\u001b[0;34m.\u001b[0m\u001b[0mTextReader\u001b[0m\u001b[0;34m(\u001b[0m\u001b[0msrc\u001b[0m\u001b[0;34m,\u001b[0m \u001b[0;34m**\u001b[0m\u001b[0mkwds\u001b[0m\u001b[0;34m)\u001b[0m\u001b[0;34m\u001b[0m\u001b[0m\n\u001b[0m\u001b[1;32m   1391\u001b[0m \u001b[0;34m\u001b[0m\u001b[0m\n\u001b[1;32m   1392\u001b[0m         \u001b[0;31m# XXX\u001b[0m\u001b[0;34m\u001b[0m\u001b[0;34m\u001b[0m\u001b[0m\n",
      "\u001b[0;32mpandas/parser.pyx\u001b[0m in \u001b[0;36mpandas.parser.TextReader.__cinit__ (pandas/parser.c:4184)\u001b[0;34m()\u001b[0m\n",
      "\u001b[0;32mpandas/parser.pyx\u001b[0m in \u001b[0;36mpandas.parser.TextReader._setup_parser_source (pandas/parser.c:8449)\u001b[0;34m()\u001b[0m\n",
      "\u001b[0;31mFileNotFoundError\u001b[0m: File b'data/TRBugs/forecast/bug_1945221_demand.csv' does not exist"
     ]
    }
   ],
   "source": [
    "mpl.rcParams['figure.max_open_warning'] = 100\n",
    "bugIds = [\"1945221\", \"1950721\", \"1951911\", \"1953300\", \"1954261\", \"1954982\", \"1955035\",\n",
    "          \"1957236\", \"1962140\", \"1962186\", \"1962233\", \"1963061\", \"1963086\", \"1963167\",\n",
    "          \"1963182\", \"1963848\", \"1963860\", \"1963944\"]\n",
    "\n",
    "for budId in bugIds:\n",
    "    forecast_csv = \"TRBugs/forecast/bug_{}_demand.csv\".format(budId)\n",
    "    cr_tr_csv = \"TRBugs/cr_tr/bug_{}_cr_tr_results.csv\".format(budId)\n",
    "    print(\"----------------------------------------------------------------------------------------------------------\")\n",
    "    print(\"----------------------------------------------------------------------------------------------------------\")\n",
    "    print(\"https://bugzilla.eng.vmware.com/show_bug.cgi?id={}\".format(budId))\n",
    "    plot_forecast(forecast_csv)\n",
    "    plot_CR_TR(cr_tr_csv)"
   ]
  }
 ],
 "metadata": {
  "kernelspec": {
   "display_name": "Python 3",
   "language": "python",
   "name": "python3"
  },
  "language_info": {
   "codemirror_mode": {
    "name": "ipython",
    "version": 3
   },
   "file_extension": ".py",
   "mimetype": "text/x-python",
   "name": "python",
   "nbconvert_exporter": "python",
   "pygments_lexer": "ipython3",
   "version": "3.6.0"
  }
 },
 "nbformat": 4,
 "nbformat_minor": 2
}
